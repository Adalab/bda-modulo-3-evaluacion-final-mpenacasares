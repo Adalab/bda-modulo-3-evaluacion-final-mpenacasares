{
 "cells": [
  {
   "cell_type": "code",
   "execution_count": null,
   "metadata": {},
   "outputs": [],
   "source": [
    "\n",
    "# importamos las librerías que necesitamos\n",
    "\n",
    "# Tratamiento de datos\n",
    "# -----------------------------------------------------------------------\n",
    "import pandas as pd\n",
    "import numpy as np\n",
    "\n",
    "# Visualización\n",
    "# ------------------------------------------------------------------------------\n",
    "import matplotlib.pyplot as plt\n",
    "import seaborn as sns\n",
    "\n",
    "# Evaluar linealidad de las relaciones entre las variables\n",
    "# y la distribución de las variables\n",
    "# ------------------------------------------------------------------------------\n",
    "import scipy.stats as stats\n",
    "from scipy.stats import chi2_contingency, ttest_ind\n",
    "\n",
    "# Configuración\n",
    "# -----------------------------------------------------------------------\n",
    "pd.set_option('display.max_columns', None) # para poder visualizar todas las columnas de los DataFrames\n",
    "\n",
    "# Gestión de los warnings\n",
    "# -----------------------------------------------------------------------\n",
    "import warnings\n",
    "warnings.filterwarnings(\"ignore\")\n",
    "\n",
    "# PDTE: IMPORTAR SOPORTE CUANDO CORRESPONDA 🚩"
   ]
  },
  {
   "cell_type": "code",
   "execution_count": null,
   "metadata": {},
   "outputs": [],
   "source": [
    "# cargamos el dataframe correspondiente a Customer Flight Analysis.csv\n",
    "df_vuelos = pd.read_csv(\"../archivos/Customer-Flight-Activity.csv\") # De momento mantengo Loyalty Number como columna 🚨\n",
    "df_vuelos = df_vuelos.sort_values(by='Loyalty Number', ascending=True).reset_index(drop=True)\n",
    "display(df_vuelos.head())\n",
    "display(df_vuelos.tail())\n",
    "display(df_vuelos.sample())"
   ]
  },
  {
   "cell_type": "code",
   "execution_count": null,
   "metadata": {},
   "outputs": [],
   "source": [
    "# cargamos el dataframe correspondiente a Customer-Loyalty-History.csv\n",
    "df_clientes = pd.read_csv(\"../archivos/Customer-Loyalty-History.csv\") # De momento mantengo Loyalty Number como columna 🚨\n",
    "df_clientes = df_clientes.sort_values(by='Loyalty Number', ascending=True).reset_index(drop=True)\n",
    "display(df_clientes.head())\n",
    "display(df_clientes.tail())\n",
    "display(df_clientes.sample())"
   ]
  },
  {
   "cell_type": "markdown",
   "metadata": {},
   "source": [
    "# Fase 1: Exploración y Limpieza ✨"
   ]
  },
  {
   "cell_type": "markdown",
   "metadata": {},
   "source": [
    "# 1. Exploración inicial"
   ]
  },
  {
   "cell_type": "code",
   "execution_count": 24,
   "metadata": {},
   "outputs": [
    {
     "name": "stdout",
     "output_type": "stream",
     "text": [
      "Num. filas df_vuelos: 405624\n",
      "Num. columnas df_vuelos: 10\n",
      "\n",
      "---------------\n",
      "\n",
      "Num. filas df_clientes: 16737\n",
      "Num. columnas df_clientes: 16\n"
     ]
    }
   ],
   "source": [
    "#Analizamos las dimensiones de los dos dataframes\n",
    "\n",
    "print(f'Num. filas df_vuelos: {df_vuelos.shape[0]}')\n",
    "print(f'Num. columnas df_vuelos: {df_vuelos.shape[1]}')\n",
    "print(f\"\\n---------------\\n\")\n",
    "print(f'Num. filas df_clientes: {df_clientes.shape[0]}')\n",
    "print(f'Num. columnas df_clientes: {df_clientes.shape[1]}')"
   ]
  },
  {
   "cell_type": "code",
   "execution_count": 9,
   "metadata": {},
   "outputs": [
    {
     "name": "stdout",
     "output_type": "stream",
     "text": [
      "Nombres columnas df_vuelos: Index(['Loyalty Number', 'Year', 'Month', 'Flights Booked',\n",
      "       'Flights with Companions', 'Total Flights', 'Distance',\n",
      "       'Points Accumulated', 'Points Redeemed', 'Dollar Cost Points Redeemed'],\n",
      "      dtype='object')\n",
      "\n",
      "---------------\n",
      "\n",
      "Nombres columnas df_clientes: Index(['Loyalty Number', 'Country', 'Province', 'City', 'Postal Code',\n",
      "       'Gender', 'Education', 'Salary', 'Marital Status', 'Loyalty Card',\n",
      "       'CLV', 'Enrollment Type', 'Enrollment Year', 'Enrollment Month',\n",
      "       'Cancellation Year', 'Cancellation Month'],\n",
      "      dtype='object')\n"
     ]
    }
   ],
   "source": [
    "# Nombres de las columnas \n",
    "print(f'Nombres columnas df_vuelos: {df_vuelos.columns}')\n",
    "print(f\"\\n---------------\\n\")\n",
    "print(f'Nombres columnas df_clientes: {df_clientes.columns}')"
   ]
  },
  {
   "cell_type": "code",
   "execution_count": 10,
   "metadata": {},
   "outputs": [
    {
     "name": "stdout",
     "output_type": "stream",
     "text": [
      "<class 'pandas.core.frame.DataFrame'>\n",
      "RangeIndex: 405624 entries, 0 to 405623\n",
      "Data columns (total 10 columns):\n",
      " #   Column                       Non-Null Count   Dtype  \n",
      "---  ------                       --------------   -----  \n",
      " 0   Loyalty Number               405624 non-null  int64  \n",
      " 1   Year                         405624 non-null  int64  \n",
      " 2   Month                        405624 non-null  int64  \n",
      " 3   Flights Booked               405624 non-null  int64  \n",
      " 4   Flights with Companions      405624 non-null  int64  \n",
      " 5   Total Flights                405624 non-null  int64  \n",
      " 6   Distance                     405624 non-null  int64  \n",
      " 7   Points Accumulated           405624 non-null  float64\n",
      " 8   Points Redeemed              405624 non-null  int64  \n",
      " 9   Dollar Cost Points Redeemed  405624 non-null  int64  \n",
      "dtypes: float64(1), int64(9)\n",
      "memory usage: 30.9 MB\n",
      "Informacion df_vuelos: None\n",
      "\n",
      "---------------\n",
      "\n",
      "<class 'pandas.core.frame.DataFrame'>\n",
      "RangeIndex: 16737 entries, 0 to 16736\n",
      "Data columns (total 16 columns):\n",
      " #   Column              Non-Null Count  Dtype  \n",
      "---  ------              --------------  -----  \n",
      " 0   Loyalty Number      16737 non-null  int64  \n",
      " 1   Country             16737 non-null  object \n",
      " 2   Province            16737 non-null  object \n",
      " 3   City                16737 non-null  object \n",
      " 4   Postal Code         16737 non-null  object \n",
      " 5   Gender              16737 non-null  object \n",
      " 6   Education           16737 non-null  object \n",
      " 7   Salary              12499 non-null  float64\n",
      " 8   Marital Status      16737 non-null  object \n",
      " 9   Loyalty Card        16737 non-null  object \n",
      " 10  CLV                 16737 non-null  float64\n",
      " 11  Enrollment Type     16737 non-null  object \n",
      " 12  Enrollment Year     16737 non-null  int64  \n",
      " 13  Enrollment Month    16737 non-null  int64  \n",
      " 14  Cancellation Year   2067 non-null   float64\n",
      " 15  Cancellation Month  2067 non-null   float64\n",
      "dtypes: float64(4), int64(3), object(9)\n",
      "memory usage: 2.0+ MB\n",
      "Informacion df_clientes: None\n"
     ]
    }
   ],
   "source": [
    "# Informacion general de los df\n",
    "print(f'Informacion df_vuelos: {df_vuelos.info()}')\n",
    "print(f\"\\n---------------\\n\")\n",
    "print(f'Informacion df_clientes: {df_clientes.info()}')"
   ]
  }
 ],
 "metadata": {
  "kernelspec": {
   "display_name": "base",
   "language": "python",
   "name": "python3"
  },
  "language_info": {
   "codemirror_mode": {
    "name": "ipython",
    "version": 3
   },
   "file_extension": ".py",
   "mimetype": "text/x-python",
   "name": "python",
   "nbconvert_exporter": "python",
   "pygments_lexer": "ipython3",
   "version": "3.12.4"
  }
 },
 "nbformat": 4,
 "nbformat_minor": 2
}
